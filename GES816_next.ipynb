{
 "cells": [
  {
   "cell_type": "code",
   "execution_count": 27,
   "id": "a1f7ad4c-d09e-47e7-a1a9-3e1821d8ed44",
   "metadata": {},
   "outputs": [],
   "source": [
    "import yfinance as yahooFinance\n",
    "import pandas as pd\n",
    "import matplotlib.pyplot as plt\n",
    "import numpy as np\n",
    "from datetime import datetime, date\n",
    "from dateutil.relativedelta import relativedelta"
   ]
  },
  {
   "cell_type": "code",
   "execution_count": 3,
   "id": "284622ab-c499-4728-a78c-0f97f8767467",
   "metadata": {},
   "outputs": [
    {
     "name": "stderr",
     "output_type": "stream",
     "text": [
      "[*********************100%%**********************]  1 of 1 completed\n",
      "[*********************100%%**********************]  1 of 1 completed\n"
     ]
    }
   ],
   "source": [
    "daily_apple = yahooFinance.download(\"AAPL\", start = datetime(2023,9,1), end = datetime(2024,9,1), interval = '1d')\n",
    "daily_appleBefore = yahooFinance.download(\"AAPL\", start = datetime(2023,1,1), end = datetime(2024,9,1), interval = '1d')\n"
   ]
  },
  {
   "cell_type": "code",
   "execution_count": 4,
   "id": "9aa7a85e-3795-4531-83df-b4ec220feb30",
   "metadata": {},
   "outputs": [],
   "source": [
    "appleDiff = daily_apple['Close'].diff()\n",
    "appleDiff.dropna(inplace=True)\n"
   ]
  },
  {
   "cell_type": "code",
   "execution_count": 5,
   "id": "75512d9a-71cb-46c3-b7e3-d017669af536",
   "metadata": {},
   "outputs": [
    {
     "ename": "NameError",
     "evalue": "name 'daily_bitcoin' is not defined",
     "output_type": "error",
     "traceback": [
      "\u001b[0;31m---------------------------------------------------------------------------\u001b[0m",
      "\u001b[0;31mNameError\u001b[0m                                 Traceback (most recent call last)",
      "Cell \u001b[0;32mIn[5], line 1\u001b[0m\n\u001b[0;32m----> 1\u001b[0m \u001b[43mdaily_bitcoin\u001b[49m\u001b[38;5;241m.\u001b[39mindex\n",
      "\u001b[0;31mNameError\u001b[0m: name 'daily_bitcoin' is not defined"
     ]
    }
   ],
   "source": [
    "daily_bitcoin.index\n",
    "\n"
   ]
  },
  {
   "cell_type": "code",
   "execution_count": null,
   "id": "71a420f8-f2a2-4e67-a348-2ee2f5eda82d",
   "metadata": {},
   "outputs": [],
   "source": [
    "plt.plot(daily_bitcoin['Close'])\n",
    "\n"
   ]
  },
  {
   "cell_type": "code",
   "execution_count": null,
   "id": "4dd8fe96-ca4a-4ca8-a431-8fe0efbe4ecf",
   "metadata": {},
   "outputs": [],
   "source": [
    "plt.plot(daily_apple['Close'])"
   ]
  },
  {
   "cell_type": "code",
   "execution_count": null,
   "id": "b7735da9-6a96-4a62-a2d9-bfc6764b8e43",
   "metadata": {},
   "outputs": [],
   "source": [
    "#https://mayerkrebs.com/relative-strength-index-rsi-in-python/\n",
    "#RSI\n",
    "def rsi(closeArray, period=14):\n",
    "    dayDiff = closeArray.diff()\n",
    "    dayDiff.dropna(inplace=True)\n",
    "    diffPos = dayDiff.copy()\n",
    "    diffNeg = dayDiff.copy()\n",
    "\n",
    "    diffPos[diffPos<0] = 0\n",
    "    diffNeg[diffNeg>0] = 0\n",
    "    avgPos = diffPos.rolling(period).mean()\n",
    "    avgNeg = diffNeg.rolling(period).mean().abs()\n",
    "\n",
    "    rsi = 100* avgPos / (avgPos + avgNeg)\n",
    "    rsi.head(20)\n",
    "    return rsi\n"
   ]
  },
  {
   "cell_type": "code",
   "execution_count": 13,
   "id": "22d9c923-3c77-42e0-8af3-392ec3d86027",
   "metadata": {},
   "outputs": [],
   "source": [
    "#https://dayanand-shah.medium.com/exponential-moving-average-and-implementation-with-python-1890d1b880e6\n",
    "#EMA\n",
    "##def ema(closeArray, period):\n",
    "  #  ema = closeArray.ewm(span=period, adjust=False).mean()\n",
    "   # return ema\n",
    "\n",
    "\n",
    "\n",
    "    #définition d'un exponential movind average sur un 1d array\n",
    "\n",
    "def ema(closeArray, period):\n",
    "    \n",
    "    ema = np.zeros_like(closeArray)\n",
    "    \n",
    "    alpha = 2 /(period + 1)\n",
    "    \n",
    "    for i in range(period, len(closeArray)):\n",
    "        \n",
    "        if np.isnan(closeArray[i]) :\n",
    "            \n",
    "            continue\n",
    "        \n",
    "        else:\n",
    "            \n",
    "            ema[i] = alpha*closeArray[i] + (1 - alpha)*ema[i-1]\n",
    "        \n",
    "        \n",
    "    ema[ema==0]=np.nan\n",
    "    \n",
    "    return ema\n",
    "\n",
    "\n",
    "    \n",
    "def PEMA(closeArray,period):\n",
    "    MA1 = ema(closeArray,period)\n",
    "    MA2 = ema(MA1,period)\n",
    "    MA3 = ema(MA2,period)\n",
    "    MA4 = ema(MA3,period)\n",
    "    MA5 = ema(MA4,period)\n",
    "    MA6 = ema(MA5,period)\n",
    "    MA7 = ema(MA6,period)\n",
    "    MA8 = ema(MA7,period)\n",
    "    PEMA = 8*MA1 - 28*MA2 + 56*MA3 -70*MA4 + 56*MA5 - 28*MA6 + 8*MA7 - MA8\n",
    "    return PEMA\n",
    "\n",
    "\n",
    "\n",
    "    "
   ]
  },
  {
   "cell_type": "code",
   "execution_count": 6,
   "id": "79698534-cd1e-467b-b3ce-bb81d953cdad",
   "metadata": {},
   "outputs": [
    {
     "ename": "NameError",
     "evalue": "name 'rsi' is not defined",
     "output_type": "error",
     "traceback": [
      "\u001b[0;31m---------------------------------------------------------------------------\u001b[0m",
      "\u001b[0;31mNameError\u001b[0m                                 Traceback (most recent call last)",
      "Cell \u001b[0;32mIn[6], line 1\u001b[0m\n\u001b[0;32m----> 1\u001b[0m appleRSI \u001b[38;5;241m=\u001b[39m \u001b[43mrsi\u001b[49m(daily_apple[\u001b[38;5;124m'\u001b[39m\u001b[38;5;124mClose\u001b[39m\u001b[38;5;124m'\u001b[39m])\n\u001b[1;32m      3\u001b[0m ax2 \u001b[38;5;241m=\u001b[39m plt\u001b[38;5;241m.\u001b[39msubplot2grid((\u001b[38;5;241m10\u001b[39m,\u001b[38;5;241m1\u001b[39m), (\u001b[38;5;241m5\u001b[39m,\u001b[38;5;241m0\u001b[39m), rowspan \u001b[38;5;241m=\u001b[39m \u001b[38;5;241m4\u001b[39m, colspan \u001b[38;5;241m=\u001b[39m \u001b[38;5;241m1\u001b[39m)\n\u001b[1;32m      5\u001b[0m \u001b[38;5;66;03m# Second chart\u001b[39;00m\n\u001b[1;32m      6\u001b[0m \u001b[38;5;66;03m# Plot the RSI\u001b[39;00m\n",
      "\u001b[0;31mNameError\u001b[0m: name 'rsi' is not defined"
     ]
    }
   ],
   "source": [
    "appleRSI = rsi(daily_apple['Close'])\n",
    "\n",
    "ax2 = plt.subplot2grid((10,1), (5,0), rowspan = 4, colspan = 1)\n",
    "\n",
    "# Second chart\n",
    "# Plot the RSI\n",
    "ax2.set_title('Relative Strength Index')\n",
    "ax2.plot(appleRSI, color='orange', linewidth=1)\n",
    "# Add two horizontal lines, signalling the buy and sell ranges.\n",
    "# Oversold\n",
    "ax2.axhline(30, linestyle='--', linewidth=1.5, color='green')\n",
    "# Overbought\n",
    "ax2.axhline(70, linestyle='--', linewidth=1.5, color='red')\n"
   ]
  },
  {
   "cell_type": "code",
   "execution_count": 7,
   "id": "47d74c90-3315-4179-9ee9-b048cf6cb917",
   "metadata": {},
   "outputs": [
    {
     "ename": "NameError",
     "evalue": "name 'PEMA' is not defined",
     "output_type": "error",
     "traceback": [
      "\u001b[0;31m---------------------------------------------------------------------------\u001b[0m",
      "\u001b[0;31mNameError\u001b[0m                                 Traceback (most recent call last)",
      "Cell \u001b[0;32mIn[7], line 1\u001b[0m\n\u001b[0;32m----> 1\u001b[0m applePEMA \u001b[38;5;241m=\u001b[39m \u001b[43mPEMA\u001b[49m(daily_appleBefore[\u001b[38;5;124m'\u001b[39m\u001b[38;5;124mClose\u001b[39m\u001b[38;5;124m'\u001b[39m]\u001b[38;5;241m.\u001b[39mto_numpy(), \u001b[38;5;241m34\u001b[39m)\n\u001b[1;32m      3\u001b[0m ax2 \u001b[38;5;241m=\u001b[39m plt\u001b[38;5;241m.\u001b[39msubplot2grid((\u001b[38;5;241m10\u001b[39m,\u001b[38;5;241m1\u001b[39m), (\u001b[38;5;241m5\u001b[39m,\u001b[38;5;241m0\u001b[39m), rowspan \u001b[38;5;241m=\u001b[39m \u001b[38;5;241m4\u001b[39m, colspan \u001b[38;5;241m=\u001b[39m \u001b[38;5;241m1\u001b[39m)\n\u001b[1;32m      5\u001b[0m \u001b[38;5;66;03m# Second chart\u001b[39;00m\n\u001b[1;32m      6\u001b[0m \u001b[38;5;66;03m# Plot the EMA\u001b[39;00m\n",
      "\u001b[0;31mNameError\u001b[0m: name 'PEMA' is not defined"
     ]
    }
   ],
   "source": [
    "applePEMA = PEMA(daily_appleBefore['Close'].to_numpy(), 34)\n",
    "\n",
    "ax2 = plt.subplot2grid((10,1), (5,0), rowspan = 4, colspan = 1)\n",
    "\n",
    "# Second chart\n",
    "# Plot the EMA\n",
    "ax2.set_title('PEMA')\n",
    "applePEMADate =  applePEMA[len(applePEMA) - len(daily_apple.index):]\n",
    "ax2.plot(daily_apple.index, applePEMADate, color='green', linewidth=1)\n",
    "ax2.plot(daily_apple.index, daily_apple['Close'], color='blue', linewidth=1)"
   ]
  },
  {
   "cell_type": "code",
   "execution_count": 8,
   "id": "110b81c0-07c4-4237-950a-1ea3b08d029d",
   "metadata": {},
   "outputs": [],
   "source": [
    "def pemaSignals(pema):\n",
    "    deltaPEMA = np.diff(pema)\n",
    "    \n",
    "    buySignal = np.zeros_like(deltaPEMA)\n",
    "    sellSignal = np.zeros_like(deltaPEMA)\n",
    "    \n",
    "    for i in range(len(deltaPEMA)):\n",
    "        if i-2 > 0:\n",
    "            if deltaPEMA[i - 1] < 0. and deltaPEMA[i] > 0. :\n",
    "                buySignal[i] = 1\n",
    "            else:\n",
    "                   buySignal[i] = np.nan\n",
    "        else:\n",
    "            buySignal[i] = np.nan\n",
    "    \n",
    "    for i in range(len(deltaPEMA)):\n",
    "        if i-2 > 0:\n",
    "            if deltaPEMA[i - 1] > 0. and deltaPEMA[i] < 0. :\n",
    "                sellSignal[i] = 1\n",
    "            else:\n",
    "                   sellSignal[i] = np.nan\n",
    "        else:\n",
    "            sellSignal[i] = np.nan\n",
    "        \n",
    "    buySignal[len(buySignal)-1] = np.nan\n",
    "    sellSignal[len(buySignal)-1] = np.nan\n",
    "\n",
    "    return buySignal, sellSignal\n"
   ]
  },
  {
   "cell_type": "code",
   "execution_count": 32,
   "id": "5abbe626-c051-405a-a4d3-90ca558b5419",
   "metadata": {},
   "outputs": [],
   "source": [
    "def moneyMade(buySignals, sellSignals, stockPrices, titre, showBuyHold):\n",
    "    cashAmount = 0\n",
    "    hasInvested = False\n",
    "    initialBoughtAction = 0\n",
    "    stockAmount = 1.\n",
    "\n",
    "    \n",
    "    for i in range(len(stockPrices)):\n",
    "        if not hasInvested:\n",
    "            if(buySignals[i] == 1):\n",
    "                hasInvested = True\n",
    "                initialBoughtAction = stockPrices.iloc[i]\n",
    "                cashAmount = initialBoughtAction\n",
    "        \n",
    "        else:   \n",
    "            if(buySignals[i] == 1):\n",
    "                stockAmount = cashAmount/stockPrices.iloc[i]\n",
    "\n",
    "            if(sellSignals[i] == 1):\n",
    "                cashAmount = stockAmount*stockPrices.iloc[i]\n",
    "\n",
    "    profit = 100*(cashAmount / initialBoughtAction - 1)\n",
    "    buyHold = 100*(stockPrices.iloc[i-1]/stockPrices.iloc[0] - 1)\n",
    "    if(showBuyHold):\n",
    "        print(titre +  ' Profit :', profit, '%')\n",
    "        print('Acheter action Profit: ', buyHold, '%')\n",
    "    return profit\n",
    "    "
   ]
  },
  {
   "cell_type": "code",
   "execution_count": 33,
   "id": "3b138d60-1b25-4135-9637-28c60af1c2e2",
   "metadata": {},
   "outputs": [],
   "source": [
    "\n",
    "def pemaResult(daily, dailyBefore, pemaPeriod, titre, showPlot):\n",
    "    dailyPemaLong = PEMA(dailyBefore['Close'].to_numpy(), pemaPeriod)\n",
    "    dailyPema = dailyPemaLong[(len(dailyPemaLong)-1) - len(daily.index):]\n",
    "\n",
    "    \n",
    "    #diffPEMA = np.append(np.diff(dailyPema), 0)\n",
    "    buySignal, sellSignal = pemaSignals(dailyPema)\n",
    "\n",
    "    if(showPlot):\n",
    "        dailyPema = dailyPema[0:-1]\n",
    "        fig, ax = plt.subplots(figsize=(11, 6))\n",
    "        priceArray = daily['Close'].to_numpy()\n",
    "        lowest_point = np.min(priceArray)\n",
    "        max_point = np.max(priceArray)\n",
    "        ax.plot(daily.index, buySignal*daily['Close'], '*g')\n",
    "        ax.plot(daily.index, sellSignal*daily['Close'], '*r')\n",
    "        ax.plot(daily.index, dailyPema, color='purple', linewidth=1)\n",
    "        ax.plot(daily.index, daily['Close'])\n",
    "        plt.title(titre)\n",
    "        ax.autoscale_view()\n",
    "        fig.autofmt_xdate()\n",
    "        \n",
    "       # ax.fill_between(daily.index, lowest_point, max_point, where= diffPEMA >= 0, facecolor = 'green', alpha = .2)\n",
    "       # ax.fill_between(daily.index, lowest_point, max_point, where= diffPEMA < 0, facecolor = 'red', alpha = .2)\n",
    "    \n",
    "        buySignalPd = pd.Series(list(buySignal), index=list(range(0,len(daily.index))))\n",
    "        sellSignalPd = pd.Series(list(sellSignal), index=list(range(0,len(daily.index))))\n",
    "    \n",
    "        begi = 0\n",
    "        for i in range(len(daily.index)):\n",
    "            if(begi == 0):\n",
    "                if(buySignal[i]==1):\n",
    "                    ax.fill_between(daily.index[0:i], max_point, lowest_point, facecolor = 'green', alpha = .2)\n",
    "                    begi = i\n",
    "            else:\n",
    "                if(sellSignal[i] == 1):\n",
    "                    ax.fill_between(daily.index[begi-1:i], max_point, lowest_point, facecolor = 'green', alpha = .2)\n",
    "                    begi = i\n",
    "                    \n",
    "                if(buySignal[i] ==1):\n",
    "                    ax.fill_between(daily.index[begi-1:i], max_point, lowest_point, facecolor = 'red', alpha = .2)\n",
    "                    begi = i\n",
    "\n",
    "    \n",
    "    profit = moneyMade(buySignal, sellSignal, daily['Close'], titre, showPlot)\n",
    "    return profit\n"
   ]
  },
  {
   "cell_type": "code",
   "execution_count": null,
   "id": "880b7ab1-eda2-4fdc-9fb3-26ac5072ed1b",
   "metadata": {},
   "outputs": [],
   "source": []
  },
  {
   "cell_type": "code",
   "execution_count": 34,
   "id": "da9b92a8-2189-41be-95be-165f3a68565e",
   "metadata": {},
   "outputs": [],
   "source": [
    "\n",
    "def backTest(daily, dailyBefore, string, freq = ' jours'):\n",
    "    coefficient = 0;   \n",
    "    profitMax = -9999.;\n",
    "    for i in range(2,40):\n",
    "        message = string + str(i) + freq\n",
    "        profit = pemaResult(daily, dailyBefore, i, message, False)\n",
    "        if(profit > profitMax):\n",
    "            profitMax = profit\n",
    "            coefficient = i\n",
    "    print(string + ' profit max: ' + str(profitMax) + ' avec période de '+ str(coefficient))\n",
    "    return coefficient, profitMax"
   ]
  },
  {
   "cell_type": "code",
   "execution_count": null,
   "id": "3d70341e-e983-4930-aa20-92c6a434876d",
   "metadata": {
    "scrolled": true
   },
   "outputs": [],
   "source": [
    "\n",
    "\n",
    "#Apple\n",
    "hourly_apple = yahooFinance.download(\"AAPL\", start = datetime(2024,7,1), end = datetime(2024,8,1), interval = '1h')\n",
    "hourly_appleBefore = yahooFinance.download(\"AAPL\", start = datetime(2024,6,10), end = datetime(2024,8,1), interval = '1h')\n",
    "\n",
    "daily_apple = yahooFinance.download(\"AAPL\", start = datetime(2023,8,1), end = datetime(2024,8,1), interval = '1d')\n",
    "daily_apple3mois = yahooFinance.download(\"AAPL\", start = datetime(2024,5,1), end = datetime(2024,8,1), interval = '1d')\n",
    "daily_appleBefore = yahooFinance.download(\"AAPL\", start = datetime(2023,1,1), end = datetime(2024,8,1), interval = '1d')\n",
    "\n",
    "backTest(daily_apple, daily_appleBefore, 'Apple PEMA 1 an période ')\n",
    "backTest(daily_apple3mois, daily_appleBefore, 'Apple PEMA 3 mois période ')\n",
    "backTest(hourly_apple, hourly_appleBefore, 'Apple PEMA 1 mois période ', ' heures')\n",
    "\n",
    "pemaResult(daily_apple, daily_appleBefore, 18, 'Signaux PEMA Apple août 2023 - juin 2024 (Période = 18)', True)\n",
    "\n",
    "\n",
    "#BNO\n",
    "hourly_banqueNationale = yahooFinance.download(\"NA.TO\", start = datetime(2024,7,1), end = datetime(2024,8,1), interval = '1h')\n",
    "hourly_banqueNationaleBefore = yahooFinance.download(\"NA.TO\", start = datetime(2024,6,10), end = datetime(2024,8,1), interval = '1h')\n",
    "\n",
    "daily_banqueNationale = yahooFinance.download(\"NA.TO\", start = datetime(2023,8,1), end = datetime(2024,8,1), interval = '1d')\n",
    "daily_banqueNationale3mois = yahooFinance.download(\"NA.TO\", start = datetime(2024,5,1), end = datetime(2024,8,1), interval = '1d')\n",
    "daily_banqueNationaleBefore = yahooFinance.download(\"NA.TO\", start = datetime(2023,1,1), end = datetime(2024,8,1), interval = '1d')\n",
    "\n",
    "backTest(daily_banqueNationale, daily_banqueNationaleBefore, 'Banque Nationale PEMA 1 an période ')\n",
    "backTest(daily_banqueNationale3mois, daily_banqueNationaleBefore, 'Banque Nationale PEMA 3 mois période ')\n",
    "backTest(hourly_banqueNationale, hourly_banqueNationaleBefore, 'Banque Nationale PEMA 1 mois période ', ' heures')\n",
    "\n",
    "pemaResult(daily_banqueNationale, daily_banqueNationaleBefore, 20, 'Signaux PEMA Banque Nationale août 2023 - juin 2024 (Période = 20)', True)\n",
    "\n",
    "\n",
    "\n",
    "#FOREX CA-USD\n",
    "hourly_cadusd = yahooFinance.download(\"CADUSD=X\", start = datetime(2024,7,1), end = datetime(2024,8,1), interval = '1h')\n",
    "hourly_cadusdBefore = yahooFinance.download(\"CADUSD=X\", start = datetime(2024,6,10), end = datetime(2024,8,1), interval = '1h')\n",
    "\n",
    "daily_cadusd = yahooFinance.download(\"CADUSD=X\", start = datetime(2023,8,1), end = datetime(2024,8,1), interval = '1d')\n",
    "daily_cadusd3mois = yahooFinance.download(\"CADUSD=X\", start = datetime(2024,5,1), end = datetime(2024,8,1), interval = '1d')\n",
    "daily_cadusdBefore = yahooFinance.download(\"CADUSD=X\", start = datetime(2023,1,1), end = datetime(2024,8,1), interval = '1d')\n",
    "\n",
    "backTest(daily_cadusd, daily_cadusdBefore, 'CAD-USD PEMA 1 an période ')\n",
    "backTest(daily_cadusd3mois, daily_cadusdBefore, 'CAD-USD PEMA 3 mois période ')\n",
    "backTest(hourly_cadusd, hourly_cadusdBefore, 'CAD-USD PEMA 1 mois période ', ' heures')\n",
    "\n",
    "pemaResult(daily_cadusd, daily_cadusdBefore, 5, 'Signaux PEMA CA-USD août 2023 - juin 2024 (Période = 5)', True)\n",
    "\n",
    "\n",
    "\n",
    "#SP500\n",
    "hourly_sp500 = yahooFinance.download(\"^GSPC\", start = datetime(2024,7,1), end = datetime(2024,8,1), interval = '1h')\n",
    "hourly_sp500Before = yahooFinance.download(\"^GSPC\", start = datetime(2024,6,10), end = datetime(2024,8,1), interval = '1h')\n",
    "\n",
    "daily_sp500 = yahooFinance.download(\"^GSPC\", start = datetime(2023,8,1), end = datetime(2024,8,1), interval = '1d')\n",
    "daily_sp5003mois = yahooFinance.download(\"^GSPC\", start = datetime(2024,5,1), end = datetime(2024,8,1), interval = '1d')\n",
    "daily_sp500Before = yahooFinance.download(\"^GSPC\", start = datetime(2023,1,1), end = datetime(2024,8,1), interval = '1d')\n",
    "\n",
    "backTest(daily_sp500, daily_sp500Before, 'SP500 PEMA 1 an période ')\n",
    "backTest(daily_sp5003mois, daily_sp500Before, 'SP500 PEMA 3 mois période ')\n",
    "backTest(hourly_sp500, hourly_sp500Before, 'SP500 PEMA 1 mois période ', ' heures')\n",
    "\n",
    "pemaResult(daily_sp500, daily_sp500Before, 28, 'Signaux PEMA SP500 août 2023 - juin 2024 (Période = 28)', True)\n",
    "\n",
    "\n",
    "#ubi\n",
    "hourly_ubi = yahooFinance.download(\"UBI.PA\", start = datetime(2024,7,1), end = datetime(2024,8,1), interval = '1h')\n",
    "hourly_ubiBefore = yahooFinance.download(\"UBI.PA\", start = datetime(2024,6,10), end = datetime(2024,8,1), interval = '1h')\n",
    "\n",
    "daily_ubi = yahooFinance.download(\"UBI.PA\", start = datetime(2023,8,1), end = datetime(2024,8,1), interval = '1d')\n",
    "daily_ubi3mois = yahooFinance.download(\"UBI.PA\", start = datetime(2024,5,1), end = datetime(2024,8,1), interval = '1d')\n",
    "daily_ubiBefore = yahooFinance.download(\"UBI.PA\", start = datetime(2023,1,1), end = datetime(2024,8,1), interval = '1d')\n",
    "\n",
    "backTest(daily_ubi, daily_ubiBefore, 'Ubisoft PEMA 1 an période ')\n",
    "backTest(daily_ubi3mois, daily_ubiBefore, 'Ubisoft PEMA 3 mois période ')\n",
    "backTest(hourly_ubi, hourly_ubiBefore, 'Ubisoft PEMA 1 mois période ', ' heures')\n",
    "\n",
    "\n",
    "pemaResult(daily_ubi, daily_ubiBefore, 10, 'Signaux PEMA Ubisoft août 2023 - juin 2024 (Période = 10)', True)\n",
    "\n",
    "\n"
   ]
  },
  {
   "cell_type": "code",
   "execution_count": null,
   "id": "652f3f45-e5d4-4715-8e6e-c4485d93dbf0",
   "metadata": {},
   "outputs": [],
   "source": [
    "#Apple\n",
    "portfolioApple = yahooFinance.download(\"AAPL\", start = datetime(2024,8,1), end = datetime(2024,11,1), interval = '1d')\n",
    "portfolioAppleBefore = yahooFinance.download(\"AAPL\", start = datetime(2023,3,1), end = datetime(2024,11,1), interval = '1d')\n",
    "\n",
    "pemaResult(portfolioApple, portfolioAppleBefore, 18, 'Signaux PEMA Apple août-novembre 2024 (Période = 18)', True)\n",
    "backTest(portfolioApple, portfolioAppleBefore, 'Apple PEMA 3 mois période ')\n",
    "\n",
    "\n",
    "#BNO\n",
    "portfolioBNO = yahooFinance.download(\"NA.TO\", start = datetime(2024,8,1), end = datetime(2024,11,1), interval = '1d')\n",
    "portfolioBNOBefore = yahooFinance.download(\"NA.TO\", start = datetime(2023,3,1), end = datetime(2024,11,1), interval = '1d')\n",
    "pemaResult(portfolioBNO, portfolioBNOBefore, 20, 'Signaux PEMA Banque Nationale août-novembre 2024 (Période = 20)', True)\n",
    "\n",
    "\n",
    "#FOREX CA-USD\n",
    "portfolioCAUSD = yahooFinance.download(\"CADUSD=X\", start = datetime(2024,8,1), end = datetime(2024,11,1), interval = '1d')\n",
    "portfolioCAUSDBefore = yahooFinance.download(\"CADUSD=X\", start = datetime(2023,3,1), end = datetime(2024,11,1), interval = '1d')\n",
    "pemaResult(portfolioCAUSD, portfolioCAUSDBefore, 5, 'Signaux PEMA CA-USD août-novembre 2024 (Période = 5)', True)\n",
    "\n",
    "\n",
    "#SP500\n",
    "portfolioSP500 = yahooFinance.download(\"^GSPC\", start = datetime(2024,8,1), end = datetime(2024,11,1), interval = '1d')\n",
    "portfolio_sp500Before = yahooFinance.download(\"^GSPC\", start = datetime(2023,3,1), end = datetime(2024,11,1), interval = '1d')\n",
    "pemaResult(portfolioSP500, portfolio_sp500Before, 28, 'Signaux PEMA SP500 août-novembre 2024 (Période = 28)', True)\n",
    "\n",
    "#ubi\n",
    "portfolioUbi = yahooFinance.download(\"UBI.PA\", start = datetime(2024,8,1), end = datetime(2024,11,1), interval = '1d')\n",
    "portfolio_ubiBefore = yahooFinance.download(\"UBI.PA\", start = datetime(2023,3,1), end = datetime(2024,11,1), interval = '1d')\n",
    "pemaResult(portfolioUbi, portfolio_ubiBefore, 10, 'Signaux PEMA Ubisoft août-novembre 2024 (Période = 10)', True)\n",
    "\n"
   ]
  },
  {
   "cell_type": "code",
   "execution_count": 35,
   "id": "fdb06980-2bea-4415-97bb-7b6b0cd46288",
   "metadata": {},
   "outputs": [
    {
     "name": "stderr",
     "output_type": "stream",
     "text": [
      "[*********************100%%**********************]  1 of 1 completed\n",
      "[*********************100%%**********************]  1 of 1 completed\n",
      "[*********************100%%**********************]  1 of 1 completed\n",
      "[*********************100%%**********************]  1 of 1 completed\n"
     ]
    },
    {
     "name": "stdout",
     "output_type": "stream",
     "text": [
      "AAPL de 2023-08-01 00:00:00 à 2023-11-01 00:00:00  profit max: 3.927858509548976 avec période de 16\n",
      "AAPL de 2023-09-01 00:00:00 à 2023-12-01 00:00:00  profit max: 11.65313919342832 avec période de 16\n"
     ]
    },
    {
     "name": "stderr",
     "output_type": "stream",
     "text": [
      "[*********************100%%**********************]  1 of 1 completed\n",
      "[*********************100%%**********************]  1 of 1 completed\n",
      "[*********************100%%**********************]  1 of 1 completed\n",
      "[*********************100%%**********************]  1 of 1 completed\n"
     ]
    },
    {
     "name": "stdout",
     "output_type": "stream",
     "text": [
      "AAPL de 2023-10-01 00:00:00 à 2024-01-01 00:00:00  profit max: 11.424234246742904 avec période de 20\n",
      "AAPL de 2023-11-01 00:00:00 à 2024-02-01 00:00:00  profit max: 3.1249390317565684 avec période de 6\n"
     ]
    },
    {
     "name": "stderr",
     "output_type": "stream",
     "text": [
      "[*********************100%%**********************]  1 of 1 completed\n",
      "[*********************100%%**********************]  1 of 1 completed\n",
      "[*********************100%%**********************]  1 of 1 completed\n",
      "[*********************100%%**********************]  1 of 1 completed"
     ]
    },
    {
     "name": "stdout",
     "output_type": "stream",
     "text": [
      "AAPL de 2023-12-01 00:00:00 à 2024-03-01 00:00:00  profit max: 3.4205084312794343 avec période de 9\n"
     ]
    },
    {
     "name": "stderr",
     "output_type": "stream",
     "text": [
      "\n",
      "[*********************100%%**********************]  1 of 1 completed\n",
      "[*********************100%%**********************]  1 of 1 completed\n"
     ]
    },
    {
     "name": "stdout",
     "output_type": "stream",
     "text": [
      "AAPL de 2024-01-01 00:00:00 à 2024-04-01 00:00:00  profit max: 3.0190960832764846 avec période de 7\n"
     ]
    },
    {
     "name": "stderr",
     "output_type": "stream",
     "text": [
      "[*********************100%%**********************]  1 of 1 completed\n",
      "[*********************100%%**********************]  1 of 1 completed"
     ]
    },
    {
     "name": "stdout",
     "output_type": "stream",
     "text": [
      "AAPL de 2024-02-01 00:00:00 à 2024-05-01 00:00:00  profit max: -3.4510409614044946 avec période de 7\n",
      "AAPL de 2024-03-01 00:00:00 à 2024-06-01 00:00:00  profit max: 6.487607118662875 avec période de 20\n"
     ]
    },
    {
     "name": "stderr",
     "output_type": "stream",
     "text": [
      "\n",
      "[*********************100%%**********************]  1 of 1 completed\n",
      "[*********************100%%**********************]  1 of 1 completed\n",
      "[*********************100%%**********************]  1 of 1 completed\n",
      "[*********************100%%**********************]  1 of 1 completed\n"
     ]
    },
    {
     "name": "stdout",
     "output_type": "stream",
     "text": [
      "AAPL de 2024-04-01 00:00:00 à 2024-07-01 00:00:00  profit max: 12.751051295880833 avec période de 18\n",
      "AAPL de 2024-05-01 00:00:00 à 2024-08-01 00:00:00  profit max: 10.944065516730062 avec période de 18\n"
     ]
    },
    {
     "name": "stderr",
     "output_type": "stream",
     "text": [
      "[*********************100%%**********************]  1 of 1 completed\n",
      "[*********************100%%**********************]  1 of 1 completed\n"
     ]
    },
    {
     "name": "stdout",
     "output_type": "stream",
     "text": [
      "AAPL de 2024-06-01 00:00:00 à 2024-09-01 00:00:00  profit max: 6.921922483290599 avec période de 18\n"
     ]
    },
    {
     "name": "stderr",
     "output_type": "stream",
     "text": [
      "[*********************100%%**********************]  1 of 1 completed\n",
      "[*********************100%%**********************]  1 of 1 completed\n",
      "[*********************100%%**********************]  1 of 1 completed\n"
     ]
    },
    {
     "name": "stdout",
     "output_type": "stream",
     "text": [
      "NA.TO de 2023-08-01 00:00:00 à 2023-11-01 00:00:00  profit max: -6.1867634486419405 avec période de 6\n"
     ]
    },
    {
     "name": "stderr",
     "output_type": "stream",
     "text": [
      "[*********************100%%**********************]  1 of 1 completed\n",
      "[*********************100%%**********************]  1 of 1 completed"
     ]
    },
    {
     "name": "stdout",
     "output_type": "stream",
     "text": [
      "NA.TO de 2023-09-01 00:00:00 à 2023-12-01 00:00:00  profit max: -2.015328635271285 avec période de 12\n"
     ]
    },
    {
     "name": "stderr",
     "output_type": "stream",
     "text": [
      "\n",
      "[*********************100%%**********************]  1 of 1 completed\n",
      "[*********************100%%**********************]  1 of 1 completed"
     ]
    },
    {
     "name": "stdout",
     "output_type": "stream",
     "text": [
      "NA.TO de 2023-10-01 00:00:00 à 2024-01-01 00:00:00  profit max: 7.2118915602704226 avec période de 13\n"
     ]
    },
    {
     "name": "stderr",
     "output_type": "stream",
     "text": [
      "\n",
      "[*********************100%%**********************]  1 of 1 completed\n",
      "[*********************100%%**********************]  1 of 1 completed"
     ]
    },
    {
     "name": "stdout",
     "output_type": "stream",
     "text": [
      "NA.TO de 2023-11-01 00:00:00 à 2024-02-01 00:00:00  profit max: 13.435509776658305 avec période de 9\n"
     ]
    },
    {
     "name": "stderr",
     "output_type": "stream",
     "text": [
      "\n",
      "[*********************100%%**********************]  1 of 1 completed\n",
      "[*********************100%%**********************]  1 of 1 completed\n"
     ]
    },
    {
     "name": "stdout",
     "output_type": "stream",
     "text": [
      "NA.TO de 2023-12-01 00:00:00 à 2024-03-01 00:00:00  profit max: 8.713538040147316 avec période de 9\n"
     ]
    },
    {
     "name": "stderr",
     "output_type": "stream",
     "text": [
      "[*********************100%%**********************]  1 of 1 completed\n",
      "[*********************100%%**********************]  1 of 1 completed"
     ]
    },
    {
     "name": "stdout",
     "output_type": "stream",
     "text": [
      "NA.TO de 2024-01-01 00:00:00 à 2024-04-01 00:00:00  profit max: 9.972666734159152 avec période de 15\n"
     ]
    },
    {
     "name": "stderr",
     "output_type": "stream",
     "text": [
      "\n",
      "[*********************100%%**********************]  1 of 1 completed\n",
      "[*********************100%%**********************]  1 of 1 completed\n"
     ]
    },
    {
     "name": "stdout",
     "output_type": "stream",
     "text": [
      "NA.TO de 2024-02-01 00:00:00 à 2024-05-01 00:00:00  profit max: 7.132213204983429 avec période de 15\n"
     ]
    },
    {
     "name": "stderr",
     "output_type": "stream",
     "text": [
      "[*********************100%%**********************]  1 of 1 completed\n",
      "[*********************100%%**********************]  1 of 1 completed"
     ]
    },
    {
     "name": "stdout",
     "output_type": "stream",
     "text": [
      "NA.TO de 2024-03-01 00:00:00 à 2024-06-01 00:00:00  profit max: 7.880918302381001 avec période de 2\n"
     ]
    },
    {
     "name": "stderr",
     "output_type": "stream",
     "text": [
      "\n",
      "[*********************100%%**********************]  1 of 1 completed\n",
      "[*********************100%%**********************]  1 of 1 completed\n",
      "[*********************100%%**********************]  1 of 1 completed\n"
     ]
    },
    {
     "name": "stdout",
     "output_type": "stream",
     "text": [
      "NA.TO de 2024-04-01 00:00:00 à 2024-07-01 00:00:00  profit max: 6.178534140778447 avec période de 2\n",
      "NA.TO de 2024-05-01 00:00:00 à 2024-08-01 00:00:00  profit max: 7.396704412352895 avec période de 24\n"
     ]
    },
    {
     "name": "stderr",
     "output_type": "stream",
     "text": [
      "[*********************100%%**********************]  1 of 1 completed\n",
      "[*********************100%%**********************]  1 of 1 completed\n",
      "[*********************100%%**********************]  1 of 1 completed"
     ]
    },
    {
     "name": "stdout",
     "output_type": "stream",
     "text": [
      "NA.TO de 2024-06-01 00:00:00 à 2024-09-01 00:00:00  profit max: 11.650238547803315 avec période de 7\n"
     ]
    },
    {
     "name": "stderr",
     "output_type": "stream",
     "text": [
      "\n",
      "[*********************100%%**********************]  1 of 1 completed\n",
      "[*********************100%%**********************]  1 of 1 completed"
     ]
    },
    {
     "name": "stdout",
     "output_type": "stream",
     "text": [
      "CADUSD=X de 2023-08-01 00:00:00 à 2023-11-01 00:00:00  profit max: -0.6401327138521151 avec période de 17\n"
     ]
    },
    {
     "name": "stderr",
     "output_type": "stream",
     "text": [
      "\n",
      "[*********************100%%**********************]  1 of 1 completed\n",
      "[*********************100%%**********************]  1 of 1 completed\n",
      "[*********************100%%**********************]  1 of 1 completed\n"
     ]
    },
    {
     "name": "stdout",
     "output_type": "stream",
     "text": [
      "CADUSD=X de 2023-09-01 00:00:00 à 2023-12-01 00:00:00  profit max: 1.4438487711891268 avec période de 5\n"
     ]
    },
    {
     "name": "stderr",
     "output_type": "stream",
     "text": [
      "[*********************100%%**********************]  1 of 1 completed"
     ]
    },
    {
     "name": "stdout",
     "output_type": "stream",
     "text": [
      "CADUSD=X de 2023-10-01 00:00:00 à 2024-01-01 00:00:00  profit max: 3.424258480584319 avec période de 5\n"
     ]
    },
    {
     "name": "stderr",
     "output_type": "stream",
     "text": [
      "\n",
      "[*********************100%%**********************]  1 of 1 completed\n",
      "[*********************100%%**********************]  1 of 1 completed\n"
     ]
    },
    {
     "name": "stdout",
     "output_type": "stream",
     "text": [
      "CADUSD=X de 2023-11-01 00:00:00 à 2024-02-01 00:00:00  profit max: 2.4332273128472526 avec période de 15\n"
     ]
    },
    {
     "name": "stderr",
     "output_type": "stream",
     "text": [
      "[*********************100%%**********************]  1 of 1 completed\n",
      "[*********************100%%**********************]  1 of 1 completed\n"
     ]
    },
    {
     "name": "stdout",
     "output_type": "stream",
     "text": [
      "CADUSD=X de 2023-12-01 00:00:00 à 2024-03-01 00:00:00  profit max: 0.3730890267777509 avec période de 22\n"
     ]
    },
    {
     "name": "stderr",
     "output_type": "stream",
     "text": [
      "[*********************100%%**********************]  1 of 1 completed\n",
      "[*********************100%%**********************]  1 of 1 completed"
     ]
    },
    {
     "name": "stdout",
     "output_type": "stream",
     "text": [
      "CADUSD=X de 2024-01-01 00:00:00 à 2024-04-01 00:00:00  profit max: -1.9248636330187585 avec période de 5\n"
     ]
    },
    {
     "name": "stderr",
     "output_type": "stream",
     "text": [
      "\n",
      "[*********************100%%**********************]  1 of 1 completed\n",
      "[*********************100%%**********************]  1 of 1 completed"
     ]
    },
    {
     "name": "stdout",
     "output_type": "stream",
     "text": [
      "CADUSD=X de 2024-02-01 00:00:00 à 2024-05-01 00:00:00  profit max: -1.1106310745717773 avec période de 5\n"
     ]
    },
    {
     "name": "stderr",
     "output_type": "stream",
     "text": [
      "\n",
      "[*********************100%%**********************]  1 of 1 completed\n",
      "[*********************100%%**********************]  1 of 1 completed"
     ]
    },
    {
     "name": "stdout",
     "output_type": "stream",
     "text": [
      "CADUSD=X de 2024-03-01 00:00:00 à 2024-06-01 00:00:00  profit max: -0.20653196272660823 avec période de 3\n"
     ]
    },
    {
     "name": "stderr",
     "output_type": "stream",
     "text": [
      "\n",
      "[*********************100%%**********************]  1 of 1 completed\n",
      "[*********************100%%**********************]  1 of 1 completed"
     ]
    },
    {
     "name": "stdout",
     "output_type": "stream",
     "text": [
      "CADUSD=X de 2024-04-01 00:00:00 à 2024-07-01 00:00:00  profit max: 1.0379262171379189 avec période de 3\n"
     ]
    },
    {
     "name": "stderr",
     "output_type": "stream",
     "text": [
      "\n",
      "[*********************100%%**********************]  1 of 1 completed\n"
     ]
    },
    {
     "name": "stdout",
     "output_type": "stream",
     "text": [
      "CADUSD=X de 2024-05-01 00:00:00 à 2024-08-01 00:00:00  profit max: 0.36409969641750806 avec période de 3\n"
     ]
    },
    {
     "name": "stderr",
     "output_type": "stream",
     "text": [
      "[*********************100%%**********************]  1 of 1 completed\n",
      "[*********************100%%**********************]  1 of 1 completed\n",
      "[*********************100%%**********************]  1 of 1 completed"
     ]
    },
    {
     "name": "stdout",
     "output_type": "stream",
     "text": [
      "CADUSD=X de 2024-06-01 00:00:00 à 2024-09-01 00:00:00  profit max: 0.8583680746679256 avec période de 18\n"
     ]
    },
    {
     "name": "stderr",
     "output_type": "stream",
     "text": [
      "\n",
      "[*********************100%%**********************]  1 of 1 completed\n",
      "[*********************100%%**********************]  1 of 1 completed\n"
     ]
    },
    {
     "name": "stdout",
     "output_type": "stream",
     "text": [
      "^GSPC de 2023-08-01 00:00:00 à 2023-11-01 00:00:00  profit max: -0.8177349144204649 avec période de 39\n"
     ]
    },
    {
     "name": "stderr",
     "output_type": "stream",
     "text": [
      "[*********************100%%**********************]  1 of 1 completed\n",
      "[*********************100%%**********************]  1 of 1 completed\n"
     ]
    },
    {
     "name": "stdout",
     "output_type": "stream",
     "text": [
      "^GSPC de 2023-09-01 00:00:00 à 2023-12-01 00:00:00  profit max: 7.729935425753087 avec période de 39\n"
     ]
    },
    {
     "name": "stderr",
     "output_type": "stream",
     "text": [
      "[*********************100%%**********************]  1 of 1 completed\n"
     ]
    },
    {
     "name": "stdout",
     "output_type": "stream",
     "text": [
      "^GSPC de 2023-10-01 00:00:00 à 2024-01-01 00:00:00  profit max: 10.727149262535685 avec période de 30\n"
     ]
    },
    {
     "name": "stderr",
     "output_type": "stream",
     "text": [
      "[*********************100%%**********************]  1 of 1 completed\n",
      "[*********************100%%**********************]  1 of 1 completed\n",
      "[*********************100%%**********************]  1 of 1 completed"
     ]
    },
    {
     "name": "stdout",
     "output_type": "stream",
     "text": [
      "^GSPC de 2023-11-01 00:00:00 à 2024-02-01 00:00:00  profit max: 9.47078426943959 avec période de 6\n"
     ]
    },
    {
     "name": "stderr",
     "output_type": "stream",
     "text": [
      "\n",
      "[*********************100%%**********************]  1 of 1 completed\n",
      "[*********************100%%**********************]  1 of 1 completed\n",
      "[*********************100%%**********************]  1 of 1 completed"
     ]
    },
    {
     "name": "stdout",
     "output_type": "stream",
     "text": [
      "^GSPC de 2023-12-01 00:00:00 à 2024-03-01 00:00:00  profit max: 9.711355229287344 avec période de 2\n"
     ]
    },
    {
     "name": "stderr",
     "output_type": "stream",
     "text": [
      "\n",
      "[*********************100%%**********************]  1 of 1 completed\n"
     ]
    },
    {
     "name": "stdout",
     "output_type": "stream",
     "text": [
      "^GSPC de 2024-01-01 00:00:00 à 2024-04-01 00:00:00  profit max: 9.739682753120139 avec période de 2\n"
     ]
    },
    {
     "name": "stderr",
     "output_type": "stream",
     "text": [
      "[*********************100%%**********************]  1 of 1 completed\n",
      "[*********************100%%**********************]  1 of 1 completed"
     ]
    },
    {
     "name": "stdout",
     "output_type": "stream",
     "text": [
      "^GSPC de 2024-02-01 00:00:00 à 2024-05-01 00:00:00  profit max: 2.669353065227975 avec période de 4\n"
     ]
    },
    {
     "name": "stderr",
     "output_type": "stream",
     "text": [
      "\n",
      "[*********************100%%**********************]  1 of 1 completed\n",
      "[*********************100%%**********************]  1 of 1 completed"
     ]
    },
    {
     "name": "stdout",
     "output_type": "stream",
     "text": [
      "^GSPC de 2024-03-01 00:00:00 à 2024-06-01 00:00:00  profit max: 3.0199630072506256 avec période de 20\n"
     ]
    },
    {
     "name": "stderr",
     "output_type": "stream",
     "text": [
      "\n",
      "[*********************100%%**********************]  1 of 1 completed\n",
      "[*********************100%%**********************]  1 of 1 completed\n",
      "[*********************100%%**********************]  1 of 1 completed\n"
     ]
    },
    {
     "name": "stdout",
     "output_type": "stream",
     "text": [
      "^GSPC de 2024-04-01 00:00:00 à 2024-07-01 00:00:00  profit max: 6.564219730772036 avec période de 20\n",
      "^GSPC de 2024-05-01 00:00:00 à 2024-08-01 00:00:00  profit max: 4.748888196503853 avec période de 26\n"
     ]
    },
    {
     "name": "stderr",
     "output_type": "stream",
     "text": [
      "[*********************100%%**********************]  1 of 1 completed\n",
      "[*********************100%%**********************]  1 of 1 completed\n",
      "[*********************100%%**********************]  1 of 1 completed\n",
      "[*********************100%%**********************]  1 of 1 completed\n"
     ]
    },
    {
     "name": "stdout",
     "output_type": "stream",
     "text": [
      "^GSPC de 2024-06-01 00:00:00 à 2024-09-01 00:00:00  profit max: 5.012421502475539 avec période de 29\n",
      "UBI.PA de 2023-08-01 00:00:00 à 2023-11-01 00:00:00  profit max: -17.6023701923679 avec période de 2\n"
     ]
    },
    {
     "name": "stderr",
     "output_type": "stream",
     "text": [
      "[*********************100%%**********************]  1 of 1 completed\n",
      "[*********************100%%**********************]  1 of 1 completed\n",
      "[*********************100%%**********************]  1 of 1 completed\n"
     ]
    },
    {
     "name": "stdout",
     "output_type": "stream",
     "text": [
      "UBI.PA de 2023-09-01 00:00:00 à 2023-12-01 00:00:00  profit max: 0.14444679601490762 avec période de 38\n"
     ]
    },
    {
     "name": "stderr",
     "output_type": "stream",
     "text": [
      "[*********************100%%**********************]  1 of 1 completed\n"
     ]
    },
    {
     "name": "stdout",
     "output_type": "stream",
     "text": [
      "UBI.PA de 2023-10-01 00:00:00 à 2024-01-01 00:00:00  profit max: 2.5494240023823833 avec période de 32\n"
     ]
    },
    {
     "name": "stderr",
     "output_type": "stream",
     "text": [
      "[*********************100%%**********************]  1 of 1 completed\n",
      "[*********************100%%**********************]  1 of 1 completed\n",
      "[*********************100%%**********************]  1 of 1 completed"
     ]
    },
    {
     "name": "stdout",
     "output_type": "stream",
     "text": [
      "UBI.PA de 2023-11-01 00:00:00 à 2024-02-01 00:00:00  profit max: -0.6415584953815667 avec période de 6\n"
     ]
    },
    {
     "name": "stderr",
     "output_type": "stream",
     "text": [
      "\n",
      "[*********************100%%**********************]  1 of 1 completed\n",
      "[*********************100%%**********************]  1 of 1 completed"
     ]
    },
    {
     "name": "stdout",
     "output_type": "stream",
     "text": [
      "UBI.PA de 2023-12-01 00:00:00 à 2024-03-01 00:00:00  profit max: 8.498563855649643 avec période de 7\n"
     ]
    },
    {
     "name": "stderr",
     "output_type": "stream",
     "text": [
      "\n",
      "[*********************100%%**********************]  1 of 1 completed\n"
     ]
    },
    {
     "name": "stdout",
     "output_type": "stream",
     "text": [
      "UBI.PA de 2024-01-01 00:00:00 à 2024-04-01 00:00:00  profit max: 10.858441517674233 avec période de 7\n"
     ]
    },
    {
     "name": "stderr",
     "output_type": "stream",
     "text": [
      "[*********************100%%**********************]  1 of 1 completed\n",
      "[*********************100%%**********************]  1 of 1 completed\n",
      "[*********************100%%**********************]  1 of 1 completed\n"
     ]
    },
    {
     "name": "stdout",
     "output_type": "stream",
     "text": [
      "UBI.PA de 2024-02-01 00:00:00 à 2024-05-01 00:00:00  profit max: 27.008347307842516 avec période de 23\n"
     ]
    },
    {
     "name": "stderr",
     "output_type": "stream",
     "text": [
      "[*********************100%%**********************]  1 of 1 completed\n",
      "[*********************100%%**********************]  1 of 1 completed\n",
      "[*********************100%%**********************]  1 of 1 completed\n"
     ]
    },
    {
     "name": "stdout",
     "output_type": "stream",
     "text": [
      "UBI.PA de 2024-03-01 00:00:00 à 2024-06-01 00:00:00  profit max: -4.628101494371517 avec période de 39\n",
      "UBI.PA de 2024-04-01 00:00:00 à 2024-07-01 00:00:00  profit max: -7.37623344652193 avec période de 9\n"
     ]
    },
    {
     "name": "stderr",
     "output_type": "stream",
     "text": [
      "[*********************100%%**********************]  1 of 1 completed\n",
      "[*********************100%%**********************]  1 of 1 completed\n",
      "[*********************100%%**********************]  1 of 1 completed\n"
     ]
    },
    {
     "name": "stdout",
     "output_type": "stream",
     "text": [
      "UBI.PA de 2024-05-01 00:00:00 à 2024-08-01 00:00:00  profit max: -5.8844213182121745 avec période de 15\n"
     ]
    },
    {
     "name": "stderr",
     "output_type": "stream",
     "text": [
      "[*********************100%%**********************]  1 of 1 completed\n"
     ]
    },
    {
     "name": "stdout",
     "output_type": "stream",
     "text": [
      "UBI.PA de 2024-06-01 00:00:00 à 2024-09-01 00:00:00  profit max: 7.7097622028591495 avec période de 15\n"
     ]
    }
   ],
   "source": [
    "\n",
    "\n",
    "def determineCoefficient(ticker, firstDate, iterations):\n",
    "\n",
    "    \n",
    "    startDate = firstDate\n",
    "    for i in range(iterations):\n",
    "        if(i>0):\n",
    "            startDate = startDate + relativedelta(months=1)\n",
    "        endDate = startDate + relativedelta(months=3)\n",
    "        daily = yahooFinance.download(ticker, start = startDate, end = endDate, interval = '1d')\n",
    "        daily_Before = yahooFinance.download(ticker, start = datetime(2023,1,1), end = endDate, interval = '1d')\n",
    "        \n",
    "        message = ticker + ' de ' + str(startDate) + ' à ' + str(endDate) + ' '\n",
    "        backTest(daily, daily_Before, message)\n",
    "    return\n",
    "\n",
    "\n",
    "#Apple\n",
    "\n",
    "determineCoefficient(\"AAPL\", datetime(2023,8,1), 11) \n",
    "#BNO\n",
    "determineCoefficient(\"NA.TO\", datetime(2023,8,1), 11) \n",
    "determineCoefficient(\"CADUSD=X\", datetime(2023,8,1), 11) \n",
    "determineCoefficient(\"^GSPC\", datetime(2023,8,1), 11) \n",
    "determineCoefficient(\"UBI.PA\", datetime(2023,8,1), 11) \n"
   ]
  },
  {
   "cell_type": "code",
   "execution_count": null,
   "id": "e67dddc4-4ed8-46b3-8ae5-8cb8867362d7",
   "metadata": {},
   "outputs": [],
   "source": []
  }
 ],
 "metadata": {
  "kernelspec": {
   "display_name": "Python 3 (ipykernel)",
   "language": "python",
   "name": "python3"
  },
  "language_info": {
   "codemirror_mode": {
    "name": "ipython",
    "version": 3
   },
   "file_extension": ".py",
   "mimetype": "text/x-python",
   "name": "python",
   "nbconvert_exporter": "python",
   "pygments_lexer": "ipython3",
   "version": "3.9.5"
  }
 },
 "nbformat": 4,
 "nbformat_minor": 5
}
